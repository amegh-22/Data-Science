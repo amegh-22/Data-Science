{
 "cells": [
  {
   "cell_type": "code",
   "execution_count": 3,
   "id": "585f4372",
   "metadata": {},
   "outputs": [
    {
     "name": "stdout",
     "output_type": "stream",
     "text": [
      "0    88\n",
      "1    92\n",
      "2    75\n",
      "3    63\n",
      "4    85\n"
     ]
    }
   ],
   "source": [
    "import pandas as pd\n",
    "\n",
    "# Create a list and convert to Series\n",
    "marks_list = [88, 92, 75, 63, 85]\n",
    "marks_series = pd.Series(marks_list)\n",
    "\n",
    "# Print without showing dtype\n",
    "print(marks_series.to_string())"
   ]
  },
  {
   "cell_type": "code",
   "execution_count": 5,
   "id": "e6600ba4",
   "metadata": {},
   "outputs": [
    {
     "name": "stdout",
     "output_type": "stream",
     "text": [
      "Date Series from 1st May 2021 to 12th May 2021:\n",
      "2021-05-01\n",
      "2021-05-02\n",
      "2021-05-03\n",
      "2021-05-04\n",
      "2021-05-05\n",
      "2021-05-06\n",
      "2021-05-07\n",
      "2021-05-08\n",
      "2021-05-09\n",
      "2021-05-10\n",
      "2021-05-11\n",
      "2021-05-12\n"
     ]
    }
   ],
   "source": [
    "import pandas as pd\n",
    "\n",
    "# Generate date range\n",
    "date_series = pd.date_range(start='2021-05-01', end='2021-05-12')\n",
    "\n",
    "# Display the dates without dtype\n",
    "print(\"Date Series from 1st May 2021 to 12th May 2021:\")\n",
    "for date in date_series:\n",
    "    print(date.strftime('%Y-%m-%d'))"
   ]
  }
 ],
 "metadata": {
  "kernelspec": {
   "display_name": "Python 3",
   "language": "python",
   "name": "python3"
  },
  "language_info": {
   "codemirror_mode": {
    "name": "ipython",
    "version": 3
   },
   "file_extension": ".py",
   "mimetype": "text/x-python",
   "name": "python",
   "nbconvert_exporter": "python",
   "pygments_lexer": "ipython3",
   "version": "3.11.9"
  }
 },
 "nbformat": 4,
 "nbformat_minor": 5
}
