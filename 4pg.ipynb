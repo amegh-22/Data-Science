{
 "cells": [
  {
   "cell_type": "code",
   "execution_count": 3,
   "id": "585f4372",
   "metadata": {},
   "outputs": [
    {
     "name": "stdout",
     "output_type": "stream",
     "text": [
      "0    88\n",
      "1    92\n",
      "2    75\n",
      "3    63\n",
      "4    85\n"
     ]
    }
   ],
   "source": [
    "import pandas as pd\n",
    "\n",
    "# Create a list and convert to Series\n",
    "marks_list = [88, 92, 75, 63, 85]\n",
    "marks_series = pd.Series(marks_list)\n",
    "\n",
    "# Print without showing dtype\n",
    "print(marks_series.to_string())"
   ]
  },
  {
   "cell_type": "code",
   "execution_count": 5,
   "id": "e6600ba4",
   "metadata": {},
   "outputs": [
    {
     "name": "stdout",
     "output_type": "stream",
     "text": [
      "Date Series from 1st May 2021 to 12th May 2021:\n",
      "2021-05-01\n",
      "2021-05-02\n",
      "2021-05-03\n",
      "2021-05-04\n",
      "2021-05-05\n",
      "2021-05-06\n",
      "2021-05-07\n",
      "2021-05-08\n",
      "2021-05-09\n",
      "2021-05-10\n",
      "2021-05-11\n",
      "2021-05-12\n"
     ]
    }
   ],
   "source": [
    "import pandas as pd\n",
    "\n",
    "# Generate date range\n",
    "date_series = pd.date_range(start='2021-05-01', end='2021-05-12')\n",
    "\n",
    "# Display the dates without dtype\n",
    "print(\"Date Series from 1st May 2021 to 12th May 2021:\")\n",
    "for date in date_series:\n",
    "    print(date.strftime('%Y-%m-%d'))"
   ]
  },
  {
   "cell_type": "code",
   "execution_count": 1,
   "id": "f260a8db",
   "metadata": {},
   "outputs": [
    {
     "name": "stdout",
     "output_type": "stream",
     "text": [
      "      Name  Age      City\n",
      "0    Alice   25  New York\n",
      "1      Bob   30     Paris\n",
      "2  Charlie   35     Tokyo\n"
     ]
    }
   ],
   "source": [
    "import pandas as pd\n",
    "\n",
    "# Sample dictionary\n",
    "data = {\n",
    "    'Name': ['Alice', 'Bob', 'Charlie'],\n",
    "    'Age': [25, 30, 35],\n",
    "    'City': ['New York', 'Paris', 'Tokyo']\n",
    "}\n",
    "\n",
    "# Convert dictionary to DataFrame\n",
    "df = pd.DataFrame(data)\n",
    "\n",
    "# Display the DataFrame\n",
    "print(df)"
   ]
  },
  {
   "cell_type": "code",
   "execution_count": 2,
   "id": "3cb737ff",
   "metadata": {},
   "outputs": [
    {
     "name": "stdout",
     "output_type": "stream",
     "text": [
      "   ID     Name  Score\n",
      "0   1    Alice     85\n",
      "1   2      Bob     90\n",
      "2   3  Charlie     78\n"
     ]
    }
   ],
   "source": [
    "import pandas as pd\n",
    "\n",
    "# Sample 2D list\n",
    "data = [\n",
    "    [1, 'Alice', 85],\n",
    "    [2, 'Bob', 90],\n",
    "    [3, 'Charlie', 78]\n",
    "]\n",
    "\n",
    "# Convert to DataFrame\n",
    "df = pd.DataFrame(data, columns=['ID', 'Name', 'Score'])\n",
    "\n",
    "# Display the DataFrame\n",
    "print(df)"
   ]
  },
  {
   "cell_type": "code",
   "execution_count": null,
   "id": "290e9e66",
   "metadata": {},
   "outputs": [
    {
     "name": "stdout",
     "output_type": "stream",
     "text": [
      "   United States  46\n",
      "0  Great Britian  27\n",
      "1          China  26\n",
      "2         Russai  19\n",
      "3        Germany  17\n"
     ]
    }
   ],
   "source": [
    "import pandas as pd\n",
    "\n",
    "# Read the CSV file into a DataFrame\n",
    "df = pd.read_csv('medal.csv')  # Replace with your actual file path\n",
    "\n",
    "# Display the entire DataFrame\n",
    "print(df)"
   ]
  },
  {
   "cell_type": "code",
   "execution_count": null,
   "id": "8301681c",
   "metadata": {},
   "outputs": [],
   "source": [
    "import pandas as pd\n",
    "\n",
    "# Sample DataFrame\n",
    "df = pd.DataFrame({\n",
    "    'Name': ['Alice', 'Bob', 'Charlie', 'Alice', 'Bob'],\n",
    "    'Score': [85, 90, 78, 92, 88],\n",
    "    'Age': [25, 30, 22, 25, 30]\n",
    "})\n",
    "\n",
    "# Sort by 'Name' (ascending) and then by 'Score' (descending)\n",
    "sorted_df = df.sort_values(by=['Name', 'Score'], ascending=[True, False])\n",
    "\n",
    "print(sorted_df)"
   ]
  },
  {
   "cell_type": "code",
   "execution_count": 9,
   "id": "c70a5cc7",
   "metadata": {},
   "outputs": [
    {
     "name": "stdout",
     "output_type": "stream",
     "text": [
      "🔹 DataFrame with Custom Index:\n",
      "      Name  Score\n",
      "a    Alice     85\n",
      "b      Bob     90\n",
      "c  Charlie     78\n",
      "\n",
      "🔸 DataFrame with Default Index:\n",
      "      Name  Score\n",
      "0    Alice     85\n",
      "1      Bob     90\n",
      "2  Charlie     78\n"
     ]
    }
   ],
   "source": [
    "import pandas as pd\n",
    "\n",
    "# Create a DataFrame with a custom index\n",
    "data = {\n",
    "    'Name': ['Alice', 'Bob', 'Charlie'],\n",
    "    'Score': [85, 90, 78]\n",
    "}\n",
    "custom_index = ['a', 'b', 'c']\n",
    "df = pd.DataFrame(data, index=custom_index)\n",
    "\n",
    "print(\"🔹 DataFrame with Custom Index:\")\n",
    "print(df)\n",
    "\n",
    "# Reset to default integer index\n",
    "df_reset = df.reset_index(drop=True)\n",
    "\n",
    "print(\"\\n🔸 DataFrame with Default Index:\")\n",
    "print(df_reset)"
   ]
  },
  {
   "cell_type": "code",
   "execution_count": 10,
   "id": "2cde1895",
   "metadata": {},
   "outputs": [
    {
     "name": "stdout",
     "output_type": "stream",
     "text": [
      "🎯 Selected Rows:\n",
      "      Name  Score\n",
      "1      Bob     90\n",
      "2  Charlie     78\n"
     ]
    }
   ],
   "source": [
    "import pandas as pd\n",
    "\n",
    "# Sample DataFrame\n",
    "df = pd.DataFrame({\n",
    "    'Name': ['Alice', 'Bob', 'Charlie', 'David'],\n",
    "    'Score': [85, 90, 78, 88]\n",
    "})\n",
    "\n",
    "# Select two rows by index (e.g., rows 1 and 2)\n",
    "selected_rows = df.iloc[1:3]\n",
    "\n",
    "print(\"🎯 Selected Rows:\")\n",
    "print(selected_rows)"
   ]
  },
  {
   "cell_type": "code",
   "execution_count": 11,
   "id": "1cd0911b",
   "metadata": {},
   "outputs": [
    {
     "name": "stdout",
     "output_type": "stream",
     "text": [
      "💼 Average Salary per Occupation:\n",
      "Occupation   Salary\n",
      "    Artist  50000.0\n",
      "    Doctor 115000.0\n",
      "  Engineer  87500.0\n"
     ]
    }
   ],
   "source": [
    "import pandas as pd\n",
    "\n",
    "# Sample DataFrame\n",
    "df = pd.DataFrame({\n",
    "    'Name': ['Alice', 'Bob', 'Charlie', 'David', 'Eva'],\n",
    "    'Occupation': ['Engineer', 'Doctor', 'Engineer', 'Doctor', 'Artist'],\n",
    "    'Salary': [85000, 120000, 90000, 110000, 50000]\n",
    "})\n",
    "\n",
    "# Group and calculate average salary\n",
    "avg_salary = df.groupby('Occupation', as_index=False)['Salary'].mean()\n",
    "\n",
    "# Display without dtype\n",
    "print(\"💼 Average Salary per Occupation:\")\n",
    "print(avg_salary.to_string(index=False))\n"
   ]
  },
  {
   "cell_type": "code",
   "execution_count": 12,
   "id": "cc1c1268",
   "metadata": {},
   "outputs": [
    {
     "name": "stdout",
     "output_type": "stream",
     "text": [
      "🔹 Original DataFrame with NaN values:\n",
      "      Name  Score   Age\n",
      "0    Alice   85.0  25.0\n",
      "1      Bob    NaN  30.0\n",
      "2  Charlie   78.0   NaN\n",
      "3    David    NaN  22.0\n",
      "\n",
      "🔸 DataFrame after filling NaN with 0:\n",
      "      Name  Score   Age\n",
      "0    Alice   85.0  25.0\n",
      "1      Bob    0.0  30.0\n",
      "2  Charlie   78.0   0.0\n",
      "3    David    0.0  22.0\n"
     ]
    }
   ],
   "source": [
    "import pandas as pd\n",
    "import numpy as np\n",
    "\n",
    "# Sample DataFrame with NaN values\n",
    "df = pd.DataFrame({\n",
    "    'Name': ['Alice', 'Bob', 'Charlie', 'David'],\n",
    "    'Score': [85, np.nan, 78, np.nan],\n",
    "    'Age': [25, 30, np.nan, 22]\n",
    "})\n",
    "\n",
    "print(\"🔹 Original DataFrame with NaN values:\")\n",
    "print(df)\n",
    "\n",
    "# Fill NaN values with 0\n",
    "df_filled = df.fillna(0)\n",
    "\n",
    "print(\"\\n🔸 DataFrame after filling NaN with 0:\")\n",
    "print(df_filled)"
   ]
  },
  {
   "cell_type": "code",
   "execution_count": 13,
   "id": "404f6356",
   "metadata": {},
   "outputs": [
    {
     "name": "stdout",
     "output_type": "stream",
     "text": [
      "🔹 Original DataFrame:\n",
      "        cname  profit\n",
      "0  Alpha Corp  120000\n",
      "1    Beta Ltd   -5000\n",
      "2   Gamma Inc       0\n",
      "3   Delta LLC   45000\n",
      "\n",
      "🔸 DataFrame with Boolean Profit Indicator:\n",
      "        cname  profit\n",
      "0  Alpha Corp    True\n",
      "1    Beta Ltd   False\n",
      "2   Gamma Inc   False\n",
      "3   Delta LLC    True\n"
     ]
    }
   ],
   "source": [
    "import pandas as pd\n",
    "\n",
    "# Sample DataFrame\n",
    "df = pd.DataFrame({\n",
    "    'cname': ['Alpha Corp', 'Beta Ltd', 'Gamma Inc', 'Delta LLC'],\n",
    "    'profit': [120000, -5000, 0, 45000]\n",
    "})\n",
    "\n",
    "print(\"🔹 Original DataFrame:\")\n",
    "print(df)\n",
    "\n",
    "# Convert profit values to True/False\n",
    "df['profit'] = df['profit'] > 0\n",
    "\n",
    "print(\"\\n🔸 DataFrame with Boolean Profit Indicator:\")\n",
    "print(df)"
   ]
  },
  {
   "cell_type": "code",
   "execution_count": 14,
   "id": "20bd0945",
   "metadata": {},
   "outputs": [
    {
     "name": "stdout",
     "output_type": "stream",
     "text": [
      "🎯 Final Merged DataFrame:\n",
      "   eid    ename  stipend position\n",
      "0  101    Alice     1500   Intern\n",
      "1  102      Bob     2000  Analyst\n",
      "2  103  Charlie     1800  Manager\n",
      "3  104    David     1700   Intern\n"
     ]
    }
   ],
   "source": [
    "import pandas as pd\n",
    "\n",
    "# First DataFrame: employee details\n",
    "df1 = pd.DataFrame({\n",
    "    'eid': [101, 102, 103, 104],\n",
    "    'ename': ['Alice', 'Bob', 'Charlie', 'David'],\n",
    "    'stipend': [1500, 2000, 1800, 1700]\n",
    "})\n",
    "\n",
    "# Second DataFrame: employee designations\n",
    "df2 = pd.DataFrame({\n",
    "    'eid': [101, 102, 103, 104],\n",
    "    'designation': ['Intern', 'Analyst', 'Manager', 'Intern']\n",
    "})\n",
    "\n",
    "# Merge the two DataFrames on 'eid'\n",
    "merged_df = pd.merge(df1, df2, on='eid')\n",
    "\n",
    "# Rename 'designation' to 'position'\n",
    "merged_df = merged_df.rename(columns={'designation': 'position'})\n",
    "\n",
    "# Final output\n",
    "print(\"🎯 Final Merged DataFrame:\")\n",
    "print(merged_df[['eid', 'ename', 'stipend', 'position']])"
   ]
  }
 ],
 "metadata": {
  "kernelspec": {
   "display_name": "Python 3",
   "language": "python",
   "name": "python3"
  },
  "language_info": {
   "codemirror_mode": {
    "name": "ipython",
    "version": 3
   },
   "file_extension": ".py",
   "mimetype": "text/x-python",
   "name": "python",
   "nbconvert_exporter": "python",
   "pygments_lexer": "ipython3",
   "version": "3.11.9"
  }
 },
 "nbformat": 4,
 "nbformat_minor": 5
}
