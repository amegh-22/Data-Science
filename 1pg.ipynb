{
 "cells": [
  {
   "cell_type": "code",
   "execution_count": 13,
   "id": "7ab461ab",
   "metadata": {},
   "outputs": [
    {
     "name": "stdout",
     "output_type": "stream",
     "text": [
      "f: [  0  32  45 100 212]\n",
      "c: [-17.77777778   0.           7.22222222  37.77777778 100.        ]\n"
     ]
    }
   ],
   "source": [
    "import numpy as np\n",
    "n=np.array([0,32,45,100,212])\n",
    "x=np.array(n-32)*(5/9)\n",
    "print(\"f:\",n)\n",
    "print(\"c:\",x)"
   ]
  },
  {
   "cell_type": "code",
   "execution_count": 14,
   "id": "034e836e",
   "metadata": {},
   "outputs": [
    {
     "name": "stdout",
     "output_type": "stream",
     "text": [
      "Average 50.035\n",
      "Varience 822.497775\n",
      "Standard deviation 28.679222008276305\n"
     ]
    }
   ],
   "source": [
    "import  numpy as np\n",
    "n=np.random.randint(1,99,size=1000)\n",
    "a=np.mean(n)\n",
    "b=np.var(n)\n",
    "c=np.std(n)\n",
    "print(\"Average\",a)\n",
    "print(\"Varience\",b)\n",
    "print(\"Standard deviation\",c)"
   ]
  },
  {
   "cell_type": "code",
   "execution_count": 35,
   "id": "9a210941",
   "metadata": {},
   "outputs": [
    {
     "name": "stdout",
     "output_type": "stream",
     "text": [
      "[0.52359878 0.78539816 1.57079633]\n",
      "radian: [0.52359878 0.78539816 1.57079633]\n"
     ]
    }
   ],
   "source": [
    "import  numpy as np\n",
    "n=np.array([30,45,90])\n",
    "p=np.deg2rad([30,45,90])\n",
    "print(p)\n",
    "r=n*(np.pi/180)\n",
    "print(\"radian:\",r)"
   ]
  },
  {
   "cell_type": "code",
   "execution_count": 45,
   "id": "0763ff2f",
   "metadata": {},
   "outputs": [
    {
     "name": "stdout",
     "output_type": "stream",
     "text": [
      "[  8 -24   2   1]\n",
      "The difference is: [  8 -24   2   1]\n"
     ]
    }
   ],
   "source": [
    "import numpy as np\n",
    "n=np.array([22,30,6,8,9])\n",
    "d=np.diff(n)\n",
    "print(d)\n",
    "difference=n[1:]-n[:-1]\n",
    "print(\"The difference is:\",difference)"
   ]
  },
  {
   "cell_type": "code",
   "execution_count": 53,
   "id": "5beef0aa",
   "metadata": {},
   "outputs": [
    {
     "name": "stdout",
     "output_type": "stream",
     "text": [
      "[(1+2j), (1+3j), (2+3j), (5+1j), (5+4j), (6+6j), (7+7j)]\n",
      "[1.+2.j 1.+3.j 2.+3.j 5.+1.j 5.+4.j 6.+6.j 7.+7.j]\n"
     ]
    }
   ],
   "source": [
    "import numpy as np\n",
    "c=np.array([(1+2j),(5+4j),(2+3j),(7+7j),(6+6j),(1+3j),(5+1j)])\n",
    "x=sorted(c)\n",
    "p=np.sort(c)\n",
    "print(x)\n",
    "print(p)\n"
   ]
  },
  {
   "cell_type": "code",
   "execution_count": 54,
   "id": "415afd9e",
   "metadata": {},
   "outputs": [
    {
     "name": "stdout",
     "output_type": "stream",
     "text": [
      "[ 4.24928407 -0.4843438  -6.13911312  2.19712268  6.4103443  -3.58305433\n",
      " -6.22797609 -8.05608914 -2.99418141  7.65243189]\n",
      "[4.24928407 6.4103443  7.65243189]\n"
     ]
    }
   ],
   "source": [
    "import numpy as np\n",
    "n=np.random.uniform(-10,10,10)\n",
    "print(n)\n",
    "r=n[n>4]\n",
    "print(r)"
   ]
  },
  {
   "cell_type": "code",
   "execution_count": 2,
   "id": "75187e81",
   "metadata": {},
   "outputs": [
    {
     "name": "stdout",
     "output_type": "stream",
     "text": [
      "[30 32 34 36 38 40 42 44 46 48 50 52 54 56 58 60]\n"
     ]
    }
   ],
   "source": [
    "import numpy as np\n",
    "n=np.arange(30,61,2)\n",
    "print(n)"
   ]
  },
  {
   "cell_type": "code",
   "execution_count": 8,
   "id": "985d7610",
   "metadata": {},
   "outputs": [
    {
     "name": "stdout",
     "output_type": "stream",
     "text": [
      "[7 1 1 3 7 6]\n",
      "not found\n"
     ]
    }
   ],
   "source": [
    "import numpy as np\n",
    "a=np.random.randint(1,10,6)\n",
    "print(a)\n",
    "n=int(input(\"Enter the element to search\"))\n",
    "index=np.where(a==n)[0]\n",
    "if index.size>0:\n",
    "    print(\"found at\",index)\n",
    "else:\n",
    "    print(\"not found\")"
   ]
  },
  {
   "cell_type": "code",
   "execution_count": 11,
   "id": "06258522",
   "metadata": {},
   "outputs": [
    {
     "name": "stdout",
     "output_type": "stream",
     "text": [
      "total sum: 45\n",
      "sum of row: [ 6 15 24]\n",
      "sum of column: [12 15 18]\n"
     ]
    }
   ],
   "source": [
    "import numpy as np\n",
    "a=np.array([[1,2,3],[4,5,6],[7,8,9]])\n",
    "s=np.sum(a)\n",
    "t=np.sum(a,axis=1)\n",
    "u=np.sum(a,axis=0)\n",
    "print(\"total sum:\",s)\n",
    "print(\"sum of row:\",t)\n",
    "print(\"sum of column:\",u)"
   ]
  },
  {
   "cell_type": "code",
   "execution_count": 12,
   "id": "b3d74e16",
   "metadata": {},
   "outputs": [
    {
     "name": "stdout",
     "output_type": "stream",
     "text": [
      "[1. 2. 3. 4.]\n"
     ]
    }
   ],
   "source": [
    "import numpy as np\n",
    "a=np.array([1,2,3,4])\n",
    "np.savetxt(\"array.txt\",a)\n",
    "l=np.loadtxt(\"array.txt\")\n",
    "print(l)"
   ]
  }
 ],
 "metadata": {
  "kernelspec": {
   "display_name": "base",
   "language": "python",
   "name": "python3"
  },
  "language_info": {
   "codemirror_mode": {
    "name": "ipython",
    "version": 3
   },
   "file_extension": ".py",
   "mimetype": "text/x-python",
   "name": "python",
   "nbconvert_exporter": "python",
   "pygments_lexer": "ipython3",
   "version": "3.12.4"
  }
 },
 "nbformat": 4,
 "nbformat_minor": 5
}
