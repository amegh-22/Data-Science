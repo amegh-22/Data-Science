{
 "cells": [
  {
   "cell_type": "code",
   "execution_count": 4,
   "id": "6b2bcffd",
   "metadata": {},
   "outputs": [
    {
     "name": "stdout",
     "output_type": "stream",
     "text": [
      "[5 5 6 7 5 6]\n",
      "found at [0 1 4]\n"
     ]
    }
   ],
   "source": [
    "import numpy as np\n",
    "a=np.random.randint(1,10,6)\n",
    "print(a)\n",
    "n=int(input(\"Enter the element to search\"))\n",
    "index=np.where(a==n)[0]\n",
    "if index.size>0:\n",
    "    print(\"found at\",index)\n",
    "else:\n",
    "    print(\"not found\")"
   ]
  }
 ],
 "metadata": {
  "kernelspec": {
   "display_name": "base",
   "language": "python",
   "name": "python3"
  },
  "language_info": {
   "codemirror_mode": {
    "name": "ipython",
    "version": 3
   },
   "file_extension": ".py",
   "mimetype": "text/x-python",
   "name": "python",
   "nbconvert_exporter": "python",
   "pygments_lexer": "ipython3",
   "version": "3.12.4"
  }
 },
 "nbformat": 4,
 "nbformat_minor": 5
}
